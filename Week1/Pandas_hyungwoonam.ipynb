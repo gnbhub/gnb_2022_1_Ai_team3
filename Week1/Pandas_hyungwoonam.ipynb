import pandas as pd
print(pd.__version__)
data1=['a', 'b', 'c', 'd', 'e']
print(data1)
